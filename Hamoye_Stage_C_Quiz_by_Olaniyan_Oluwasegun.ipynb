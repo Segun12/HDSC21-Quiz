{
  "nbformat": 4,
  "nbformat_minor": 0,
  "metadata": {
    "colab": {
      "name": "Hamoye Stage C Quiz by Olaniyan Oluwasegun",
      "provenance": [],
      "mount_file_id": "1qF9zSOeHM_A01xi6fPmmUnOMBnMEdaBS",
      "authorship_tag": "ABX9TyOo7v7g+EQlcOfMeo2YHAiT",
      "include_colab_link": true
    },
    "kernelspec": {
      "name": "python3",
      "display_name": "Python 3"
    },
    "language_info": {
      "name": "python"
    }
  },
  "cells": [
    {
      "cell_type": "markdown",
      "metadata": {
        "id": "view-in-github",
        "colab_type": "text"
      },
      "source": [
        "<a href=\"https://colab.research.google.com/github/Segun12/HDSC21-Quiz/blob/main/Hamoye_Stage_C_Quiz_by_Olaniyan_Oluwasegun.ipynb\" target=\"_parent\"><img src=\"https://colab.research.google.com/assets/colab-badge.svg\" alt=\"Open In Colab\"/></a>"
      ]
    },
    {
      "cell_type": "code",
      "metadata": {
        "id": "5ncQZBVx0zfZ"
      },
      "source": [
        "# import necessary libraries\n",
        "import numpy as np\n",
        "import pandas as pd\n",
        "import matplotlib.pyplot as plt\n",
        "from sklearn.model_selection import train_test_split, RandomizedSearchCV\n",
        "\n",
        "%matplotlib inline"
      ],
      "execution_count": 45,
      "outputs": []
    },
    {
      "cell_type": "code",
      "metadata": {
        "colab": {
          "base_uri": "https://localhost:8080/",
          "height": 226
        },
        "id": "NyBl_mVO09XI",
        "outputId": "fdfa83de-774d-44d5-f71b-aab9d7c3e229"
      },
      "source": [
        "# read and access the dataset\n",
        "df = pd.read_csv('/content/drive/MyDrive/ML portfolio/Hamoye/Group C Quiz/Data_for_UCI_named.csv')\n",
        "df.head()"
      ],
      "execution_count": 46,
      "outputs": [
        {
          "output_type": "execute_result",
          "data": {
            "text/html": [
              "<div>\n",
              "<style scoped>\n",
              "    .dataframe tbody tr th:only-of-type {\n",
              "        vertical-align: middle;\n",
              "    }\n",
              "\n",
              "    .dataframe tbody tr th {\n",
              "        vertical-align: top;\n",
              "    }\n",
              "\n",
              "    .dataframe thead th {\n",
              "        text-align: right;\n",
              "    }\n",
              "</style>\n",
              "<table border=\"1\" class=\"dataframe\">\n",
              "  <thead>\n",
              "    <tr style=\"text-align: right;\">\n",
              "      <th></th>\n",
              "      <th>tau1</th>\n",
              "      <th>tau2</th>\n",
              "      <th>tau3</th>\n",
              "      <th>tau4</th>\n",
              "      <th>p1</th>\n",
              "      <th>p2</th>\n",
              "      <th>p3</th>\n",
              "      <th>p4</th>\n",
              "      <th>g1</th>\n",
              "      <th>g2</th>\n",
              "      <th>g3</th>\n",
              "      <th>g4</th>\n",
              "      <th>stab</th>\n",
              "      <th>stabf</th>\n",
              "    </tr>\n",
              "  </thead>\n",
              "  <tbody>\n",
              "    <tr>\n",
              "      <th>0</th>\n",
              "      <td>2.959060</td>\n",
              "      <td>3.079885</td>\n",
              "      <td>8.381025</td>\n",
              "      <td>9.780754</td>\n",
              "      <td>3.763085</td>\n",
              "      <td>-0.782604</td>\n",
              "      <td>-1.257395</td>\n",
              "      <td>-1.723086</td>\n",
              "      <td>0.650456</td>\n",
              "      <td>0.859578</td>\n",
              "      <td>0.887445</td>\n",
              "      <td>0.958034</td>\n",
              "      <td>0.055347</td>\n",
              "      <td>unstable</td>\n",
              "    </tr>\n",
              "    <tr>\n",
              "      <th>1</th>\n",
              "      <td>9.304097</td>\n",
              "      <td>4.902524</td>\n",
              "      <td>3.047541</td>\n",
              "      <td>1.369357</td>\n",
              "      <td>5.067812</td>\n",
              "      <td>-1.940058</td>\n",
              "      <td>-1.872742</td>\n",
              "      <td>-1.255012</td>\n",
              "      <td>0.413441</td>\n",
              "      <td>0.862414</td>\n",
              "      <td>0.562139</td>\n",
              "      <td>0.781760</td>\n",
              "      <td>-0.005957</td>\n",
              "      <td>stable</td>\n",
              "    </tr>\n",
              "    <tr>\n",
              "      <th>2</th>\n",
              "      <td>8.971707</td>\n",
              "      <td>8.848428</td>\n",
              "      <td>3.046479</td>\n",
              "      <td>1.214518</td>\n",
              "      <td>3.405158</td>\n",
              "      <td>-1.207456</td>\n",
              "      <td>-1.277210</td>\n",
              "      <td>-0.920492</td>\n",
              "      <td>0.163041</td>\n",
              "      <td>0.766689</td>\n",
              "      <td>0.839444</td>\n",
              "      <td>0.109853</td>\n",
              "      <td>0.003471</td>\n",
              "      <td>unstable</td>\n",
              "    </tr>\n",
              "    <tr>\n",
              "      <th>3</th>\n",
              "      <td>0.716415</td>\n",
              "      <td>7.669600</td>\n",
              "      <td>4.486641</td>\n",
              "      <td>2.340563</td>\n",
              "      <td>3.963791</td>\n",
              "      <td>-1.027473</td>\n",
              "      <td>-1.938944</td>\n",
              "      <td>-0.997374</td>\n",
              "      <td>0.446209</td>\n",
              "      <td>0.976744</td>\n",
              "      <td>0.929381</td>\n",
              "      <td>0.362718</td>\n",
              "      <td>0.028871</td>\n",
              "      <td>unstable</td>\n",
              "    </tr>\n",
              "    <tr>\n",
              "      <th>4</th>\n",
              "      <td>3.134112</td>\n",
              "      <td>7.608772</td>\n",
              "      <td>4.943759</td>\n",
              "      <td>9.857573</td>\n",
              "      <td>3.525811</td>\n",
              "      <td>-1.125531</td>\n",
              "      <td>-1.845975</td>\n",
              "      <td>-0.554305</td>\n",
              "      <td>0.797110</td>\n",
              "      <td>0.455450</td>\n",
              "      <td>0.656947</td>\n",
              "      <td>0.820923</td>\n",
              "      <td>0.049860</td>\n",
              "      <td>unstable</td>\n",
              "    </tr>\n",
              "  </tbody>\n",
              "</table>\n",
              "</div>"
            ],
            "text/plain": [
              "       tau1      tau2      tau3  ...        g4      stab     stabf\n",
              "0  2.959060  3.079885  8.381025  ...  0.958034  0.055347  unstable\n",
              "1  9.304097  4.902524  3.047541  ...  0.781760 -0.005957    stable\n",
              "2  8.971707  8.848428  3.046479  ...  0.109853  0.003471  unstable\n",
              "3  0.716415  7.669600  4.486641  ...  0.362718  0.028871  unstable\n",
              "4  3.134112  7.608772  4.943759  ...  0.820923  0.049860  unstable\n",
              "\n",
              "[5 rows x 14 columns]"
            ]
          },
          "metadata": {},
          "execution_count": 46
        }
      ]
    },
    {
      "cell_type": "code",
      "metadata": {
        "id": "Te-5xHTX1HMW"
      },
      "source": [
        "# droping the stab feature\n",
        "df = df.drop(columns = 'stab')"
      ],
      "execution_count": 47,
      "outputs": []
    },
    {
      "cell_type": "code",
      "metadata": {
        "id": "iyrJD8T11MDp"
      },
      "source": [
        "X = df.drop(['stabf'],axis = 1)\n",
        "y = df['stabf']"
      ],
      "execution_count": 48,
      "outputs": []
    },
    {
      "cell_type": "code",
      "metadata": {
        "id": "IcFZuc_W1ONo"
      },
      "source": [
        "# splitting the dataset into 80:20\n",
        "X_train, X_test, y_train, y_test = train_test_split( X, y, test_size=0.2, random_state=1)"
      ],
      "execution_count": 49,
      "outputs": []
    },
    {
      "cell_type": "code",
      "metadata": {
        "id": "JWnbrSvX1YVZ"
      },
      "source": [
        "# initializing standardscaler\n",
        "from sklearn.preprocessing import StandardScaler\n",
        "scaler = StandardScaler()"
      ],
      "execution_count": 50,
      "outputs": []
    },
    {
      "cell_type": "code",
      "metadata": {
        "id": "4sA4phEh1mIv"
      },
      "source": [
        "# transforming the train and test dataset\n",
        "\n",
        "transformed_X_train = scaler.fit_transform(X_train)\n",
        "transformed_X_test = scaler.transform(X_test)"
      ],
      "execution_count": 51,
      "outputs": []
    },
    {
      "cell_type": "code",
      "metadata": {
        "id": "MdBKmGev16M7"
      },
      "source": [
        "from sklearn.tree import DecisionTreeClassifier\n",
        "from sklearn.ensemble import RandomForestClassifier, ExtraTreesClassifier\n",
        "from xgboost import XGBClassifier\n",
        "import lightgbm as lgbm"
      ],
      "execution_count": 52,
      "outputs": []
    },
    {
      "cell_type": "code",
      "metadata": {
        "id": "8AsS_pE7IqzK"
      },
      "source": [
        "# train a random forest and extra trees classifier. \n",
        "# And use xgboost and lightgbm to train an extreme boosting model and a light gradient boosting model.\n",
        "\n",
        "\n",
        "dtree = DecisionTreeClassifier(random_state=1)\n",
        "rf = RandomForestClassifier(random_state=1)\n",
        "Extra = ExtraTreesClassifier(random_state=1)\n",
        "Xgb = XGBClassifier(random_state=1)\n",
        "light = lgbm.LGBMClassifier(random_state=1)"
      ],
      "execution_count": 53,
      "outputs": []
    },
    {
      "cell_type": "markdown",
      "metadata": {
        "id": "NkO0ooudKrml"
      },
      "source": [
        "# Question 1\n",
        "\n",
        "What is the F1 Score of the Classifier?"
      ]
    },
    {
      "cell_type": "code",
      "metadata": {
        "colab": {
          "base_uri": "https://localhost:8080/"
        },
        "id": "IFFLKuD4KeLj",
        "outputId": "42f2ff5c-ee85-4f95-b4db-72e51a1d8c8c"
      },
      "source": [
        "# Having instances (n) = 2000\n",
        "# where F1 is given as 2 * (Precision*Recall)/(Precision + Recall)\n",
        "\n",
        "\n",
        "Precision = (355/ ( 355+1480)) \n",
        "Recall =  (355 /(355+45)) \n",
        "F1_Score = 2 * (Precision*Recall)/(Precision + Recall)\n",
        "print('The f1 score of the classifier is: {}'.format(round(F1_Score,4)))"
      ],
      "execution_count": 36,
      "outputs": [
        {
          "output_type": "stream",
          "name": "stdout",
          "text": [
            "The f1 score of the classifier is: 0.3177\n"
          ]
        }
      ]
    },
    {
      "cell_type": "markdown",
      "metadata": {
        "id": "GmWvXzCdLaEd"
      },
      "source": [
        "# Question 2\n",
        "\n",
        "What method can we use to best fit a data in Logistic Regression?\n",
        "\n",
        "Answer: Maximum Likelihood "
      ]
    },
    {
      "cell_type": "markdown",
      "metadata": {
        "id": "4irCDOHSLqvh"
      },
      "source": [
        "# Question 3\n",
        "Why do we use weak learners in boosting?\n",
        "\n",
        "Answer: To make the algorithm stronger\n"
      ]
    },
    {
      "cell_type": "markdown",
      "metadata": {
        "id": "DVP2e82jL-j0"
      },
      "source": [
        "# Question 4\n",
        "Which Confusion matrix represents the model that satisfies the requirement?\n",
        "\n",
        "Answer: TN = 98%, FP = 2%, FN = 18%, TP = 82%\n",
        "\n"
      ]
    },
    {
      "cell_type": "markdown",
      "metadata": {
        "id": "1Px79TFCMvI_"
      },
      "source": [
        "# Question 5\n",
        "\n",
        "You are building a classifier and the accuracy is poor on both the training and test sets. Which would you use to try to improve the performance?\n",
        "\n",
        "Answer: Boosting"
      ]
    },
    {
      "cell_type": "markdown",
      "metadata": {
        "id": "Qgbhp2nrM_Y_"
      },
      "source": [
        "# Question 6\n",
        "\n",
        "Which of the following is not an Ensemble model?\n",
        "\n",
        "Answer: None of The Above"
      ]
    },
    {
      "cell_type": "markdown",
      "metadata": {
        "id": "zsrkIZvrNOpr"
      },
      "source": [
        "# Question 7\n",
        "Metric to evaluate classifier (i.e Whether Fraudulent or not)\n",
        "\n",
        "Answer: Recall"
      ]
    },
    {
      "cell_type": "markdown",
      "metadata": {
        "id": "b8ATMTYyNdG3"
      },
      "source": [
        "# Question 8\n",
        "Answer: The model has no discrimination capacity to differentiate between the positive and the negative class.\n"
      ]
    },
    {
      "cell_type": "markdown",
      "metadata": {
        "id": "iSK7Gw7iN3Qo"
      },
      "source": [
        "# Question 9\n",
        "\n",
        "Based on the matrix, which number was predicted with the least accuracy?\n",
        "\n",
        "Answer: 8"
      ]
    },
    {
      "cell_type": "markdown",
      "metadata": {
        "id": "_XlM64kNOU1F"
      },
      "source": [
        "# Question 10\n",
        "\n",
        "A medical company is building a model to predict the occurrence of thyroid cancer. The training data contains 900 negative instances (people who don't have cancer) and 100 positive instances. The resulting model has 90% accuracy, but extremely poor recall. What steps can be used to improve the model's performance? (SELECT TWO OPTIONS)\n",
        "\n",
        "Answer:\n",
        "1. Over-sample instances from the negative (no cancer) class\n",
        "2. Generate synthetic samples/data using SMOTE"
      ]
    },
    {
      "cell_type": "markdown",
      "metadata": {
        "id": "XzyY3jDZOuIn"
      },
      "source": [
        "# Question 11\n",
        "You are developing a machine learning classification algorithm that categorizes handwritten digits 0-9 into the numbers they represent. How should you pre-process the label data?\n",
        "\n",
        "Answer: One-hot encoding"
      ]
    },
    {
      "cell_type": "markdown",
      "metadata": {
        "id": "clcgxHtITNjg"
      },
      "source": [
        "# Question 12\n",
        "\n",
        "What is the entropy of the target variable if its actual values are given as:\n",
        "\n",
        "[1,0,1,1,0,1,0]\n",
        "\n",
        "Answer: 3/7 log(3/7) + 4/7 log(4/7)"
      ]
    },
    {
      "cell_type": "markdown",
      "metadata": {
        "id": "NxGv-Ob2Tcw_"
      },
      "source": [
        "# Question 13\n",
        "Which of this is not a good metric for evaluating classification algorithms for data with imbalanced class problems?\n",
        "\n",
        "Answer: Accuracy"
      ]
    },
    {
      "cell_type": "markdown",
      "metadata": {
        "id": "BXKR4jcKTvql"
      },
      "source": [
        "# Question 14\n",
        "\n",
        "What is the accuracy on the test set using the random forest classifier? In 4 decimal places."
      ]
    },
    {
      "cell_type": "code",
      "metadata": {
        "colab": {
          "base_uri": "https://localhost:8080/"
        },
        "id": "xag-qpDY1-ZT",
        "outputId": "adb133e7-abf1-4994-d490-42670205d0b8"
      },
      "source": [
        "rf = RandomForestClassifier(random_state=1)\n",
        "\n",
        "rf.fit(transformed_X_train,y_train)"
      ],
      "execution_count": 37,
      "outputs": [
        {
          "output_type": "execute_result",
          "data": {
            "text/plain": [
              "RandomForestClassifier(bootstrap=True, ccp_alpha=0.0, class_weight=None,\n",
              "                       criterion='gini', max_depth=None, max_features='auto',\n",
              "                       max_leaf_nodes=None, max_samples=None,\n",
              "                       min_impurity_decrease=0.0, min_impurity_split=None,\n",
              "                       min_samples_leaf=1, min_samples_split=2,\n",
              "                       min_weight_fraction_leaf=0.0, n_estimators=100,\n",
              "                       n_jobs=None, oob_score=False, random_state=1, verbose=0,\n",
              "                       warm_start=False)"
            ]
          },
          "metadata": {},
          "execution_count": 37
        }
      ]
    },
    {
      "cell_type": "code",
      "metadata": {
        "colab": {
          "base_uri": "https://localhost:8080/"
        },
        "id": "knpBZqRe27sP",
        "outputId": "9f0c0784-04d1-48d0-ce99-d730ed594596"
      },
      "source": [
        "predict_rf = rf.predict(transformed_X_test)\n",
        "\n",
        "print('The accuracy on the test set using the random forest classifier In 4 decimal places is :{}'.format(\n",
        "    accuracy_score(y_test, predict_rf)))"
      ],
      "execution_count": 40,
      "outputs": [
        {
          "output_type": "stream",
          "name": "stdout",
          "text": [
            "The accuracy on the test set using the random forest classifier In 4 decimal places is :0.929\n"
          ]
        }
      ]
    },
    {
      "cell_type": "markdown",
      "metadata": {
        "id": "wP3lrhD8UrMB"
      },
      "source": [
        "# Question 15\n",
        "\n",
        "What is the accuracy on the test set using the xgboost classifier? In 4 decimal places.\n"
      ]
    },
    {
      "cell_type": "code",
      "metadata": {
        "colab": {
          "base_uri": "https://localhost:8080/"
        },
        "id": "evJtewHlVSy1",
        "outputId": "695e6c8c-2828-4bcb-cfd9-38f8f14b1944"
      },
      "source": [
        "Xgb.fit(transformed_X_train,y_train)"
      ],
      "execution_count": 54,
      "outputs": [
        {
          "output_type": "execute_result",
          "data": {
            "text/plain": [
              "XGBClassifier(base_score=0.5, booster='gbtree', colsample_bylevel=1,\n",
              "              colsample_bynode=1, colsample_bytree=1, gamma=0,\n",
              "              learning_rate=0.1, max_delta_step=0, max_depth=3,\n",
              "              min_child_weight=1, missing=None, n_estimators=100, n_jobs=1,\n",
              "              nthread=None, objective='binary:logistic', random_state=1,\n",
              "              reg_alpha=0, reg_lambda=1, scale_pos_weight=1, seed=None,\n",
              "              silent=None, subsample=1, verbosity=1)"
            ]
          },
          "metadata": {},
          "execution_count": 54
        }
      ]
    },
    {
      "cell_type": "code",
      "metadata": {
        "colab": {
          "base_uri": "https://localhost:8080/"
        },
        "id": "hjjQFOei2dUQ",
        "outputId": "eaca6d3d-3067-482d-a2f4-b5b40e074ec8"
      },
      "source": [
        "predict_xgboost = Xgb.predict(transformed_X_test)\n",
        "\n",
        "print('The accuracy on the test set using the xgboost classifier In 4 decimal places is :{}'.format(\n",
        "    accuracy_score(y_test, predict_xgboost)))"
      ],
      "execution_count": 56,
      "outputs": [
        {
          "output_type": "stream",
          "name": "stdout",
          "text": [
            "The accuracy on the test set using the xgboost classifier In 4 decimal places is :0.9195\n"
          ]
        }
      ]
    },
    {
      "cell_type": "markdown",
      "metadata": {
        "id": "qtSJGixaVjEk"
      },
      "source": [
        "# Question 16\n",
        "\n",
        "What is the accuracy on the test set using the LGBM classifier? In 4 decimal places."
      ]
    },
    {
      "cell_type": "code",
      "metadata": {
        "colab": {
          "base_uri": "https://localhost:8080/"
        },
        "id": "U7M9tPqV2yNR",
        "outputId": "3585ce4d-0df6-4899-a5a8-48b9fe96921c"
      },
      "source": [
        "light.fit(transformed_X_train,y_train)"
      ],
      "execution_count": 57,
      "outputs": [
        {
          "output_type": "execute_result",
          "data": {
            "text/plain": [
              "LGBMClassifier(boosting_type='gbdt', class_weight=None, colsample_bytree=1.0,\n",
              "               importance_type='split', learning_rate=0.1, max_depth=-1,\n",
              "               min_child_samples=20, min_child_weight=0.001, min_split_gain=0.0,\n",
              "               n_estimators=100, n_jobs=-1, num_leaves=31, objective=None,\n",
              "               random_state=1, reg_alpha=0.0, reg_lambda=0.0, silent=True,\n",
              "               subsample=1.0, subsample_for_bin=200000, subsample_freq=0)"
            ]
          },
          "metadata": {},
          "execution_count": 57
        }
      ]
    },
    {
      "cell_type": "code",
      "metadata": {
        "colab": {
          "base_uri": "https://localhost:8080/"
        },
        "id": "_4evVd0JViI0",
        "outputId": "75853974-5786-4c91-893c-32b8cf5e6664"
      },
      "source": [
        "predict_light = light.predict(transformed_X_test)\n",
        "\n",
        "print('The accuracy on the test set using the xgboost classifier In 4 decimal places is :{}'.format(\n",
        "    accuracy_score(y_test, predict_light)))"
      ],
      "execution_count": 58,
      "outputs": [
        {
          "output_type": "stream",
          "name": "stdout",
          "text": [
            "The accuracy on the test set using the xgboost classifier In 4 decimal places is :0.9375\n"
          ]
        }
      ]
    },
    {
      "cell_type": "markdown",
      "metadata": {
        "id": "MV56nfbEWQ_6"
      },
      "source": [
        "# Question 17\n",
        "\n",
        "Hyperparameter tuning of Extra tree using RandomizedSearchCV.\n",
        "\n",
        "What are the best hyperparameters from the randomized search CV?\n",
        "\n",
        "Answer:\n",
        "max_features : None,\n",
        "\n",
        "min_samples_leaf: 8,\n",
        "\n",
        "min_samples_split: 2,\n",
        "\n",
        "n_estimators: 1000}"
      ]
    },
    {
      "cell_type": "code",
      "metadata": {
        "id": "4Wk-hUhNV79y"
      },
      "source": [
        "# tuning the Extra tree\n",
        "n_estimators = [50, 100, 300, 500, 1000]\n",
        "min_samples_split = [2, 3, 5, 7, 9]\n",
        "min_samples_leaf = [1, 2, 4, 6, 8]\n",
        "max_features = ['auto', 'sqrt', 'log2', None]\n",
        "\n",
        "hyperparameter_grid = {'n_estimators': n_estimators,'min_samples_leaf': min_samples_leaf,\n",
        "                       'min_samples_split': min_samples_split,'max_features': max_features}\n",
        "\n"
      ],
      "execution_count": 60,
      "outputs": []
    },
    {
      "cell_type": "code",
      "metadata": {
        "id": "NhmTDE7MXB8w"
      },
      "source": [
        "random_search = RandomizedSearchCV(estimator = Extra, param_distributions= hyperparameter_grid,\n",
        "                                   random_state=1, cv = 5, n_iter=10,scoring='accuracy',n_jobs=1, verbose=1)"
      ],
      "execution_count": null,
      "outputs": []
    },
    {
      "cell_type": "code",
      "metadata": {
        "colab": {
          "base_uri": "https://localhost:8080/"
        },
        "id": "O8uufH75WkJ4",
        "outputId": "55d1a6fb-0099-433b-d642-67c3ea42bdd3"
      },
      "source": [
        "random_search.fit(transformed_X_train,y_train)"
      ],
      "execution_count": 62,
      "outputs": [
        {
          "output_type": "stream",
          "name": "stdout",
          "text": [
            "Fitting 5 folds for each of 10 candidates, totalling 50 fits\n"
          ]
        },
        {
          "output_type": "stream",
          "name": "stderr",
          "text": [
            "[Parallel(n_jobs=1)]: Using backend SequentialBackend with 1 concurrent workers.\n",
            "[Parallel(n_jobs=1)]: Done  50 out of  50 | elapsed:  2.1min finished\n"
          ]
        },
        {
          "output_type": "execute_result",
          "data": {
            "text/plain": [
              "RandomizedSearchCV(cv=5, error_score=nan,\n",
              "                   estimator=ExtraTreesClassifier(bootstrap=False,\n",
              "                                                  ccp_alpha=0.0,\n",
              "                                                  class_weight=None,\n",
              "                                                  criterion='gini',\n",
              "                                                  max_depth=None,\n",
              "                                                  max_features='auto',\n",
              "                                                  max_leaf_nodes=None,\n",
              "                                                  max_samples=None,\n",
              "                                                  min_impurity_decrease=0.0,\n",
              "                                                  min_impurity_split=None,\n",
              "                                                  min_samples_leaf=1,\n",
              "                                                  min_samples_split=2,\n",
              "                                                  min_weight_fraction_leaf=0.0,\n",
              "                                                  n_estimators=100, n_jobs=...\n",
              "                                                  oob_score=False,\n",
              "                                                  random_state=1, verbose=0,\n",
              "                                                  warm_start=False),\n",
              "                   iid='deprecated', n_iter=10, n_jobs=1,\n",
              "                   param_distributions={'max_features': ['auto', 'sqrt', 'log2',\n",
              "                                                         None],\n",
              "                                        'min_samples_leaf': [1, 2, 4, 6, 8],\n",
              "                                        'min_samples_split': [2, 3, 5, 7, 9],\n",
              "                                        'n_estimators': [50, 100, 300, 500,\n",
              "                                                         1000]},\n",
              "                   pre_dispatch='2*n_jobs', random_state=1, refit=True,\n",
              "                   return_train_score=False, scoring='accuracy', verbose=1)"
            ]
          },
          "metadata": {},
          "execution_count": 62
        }
      ]
    },
    {
      "cell_type": "code",
      "metadata": {
        "colab": {
          "base_uri": "https://localhost:8080/"
        },
        "id": "SPJHQ8E1Wnox",
        "outputId": "a7f63910-9270-417f-df20-75e513580b55"
      },
      "source": [
        "random_search.best_params_"
      ],
      "execution_count": 63,
      "outputs": [
        {
          "output_type": "execute_result",
          "data": {
            "text/plain": [
              "{'max_features': None,\n",
              " 'min_samples_leaf': 8,\n",
              " 'min_samples_split': 2,\n",
              " 'n_estimators': 1000}"
            ]
          },
          "metadata": {},
          "execution_count": 63
        }
      ]
    },
    {
      "cell_type": "markdown",
      "metadata": {
        "id": "2R93opPcX8p1"
      },
      "source": [
        "# Question 18\n",
        "\n",
        "Train a new ExtraTreesClassifier Model with the new Hyperparameters from the RandomizedSearchCV (with random_state =1). Is the accuracy of the new optimal model higher or lower than the initial ExtraTreesClassifier model with no hyperparameter tuning?\n",
        "\n",
        "Answer: lower"
      ]
    },
    {
      "cell_type": "markdown",
      "metadata": {
        "id": "dbGFui44YJf4"
      },
      "source": [
        "# Question 19\n",
        "What other hyperparameter optimization methods can you try apart from Random Search?\n",
        "\n",
        "Answer: All of the above"
      ]
    },
    {
      "cell_type": "markdown",
      "metadata": {
        "id": "VnRwuaSqYjCX"
      },
      "source": [
        "# Question 20\n",
        "Find the feature importance using the optimal ExtraTreesClassifier model. Which features are the most and least important respectively?\n",
        "\n",
        "Answer: tau2, p1\n"
      ]
    },
    {
      "cell_type": "markdown",
      "metadata": {
        "id": "f6QjYNanYuzB"
      },
      "source": [
        "# THANKS"
      ]
    },
    {
      "cell_type": "code",
      "metadata": {
        "id": "t3q1Eg16Yxg7"
      },
      "source": [
        ""
      ],
      "execution_count": null,
      "outputs": []
    }
  ]
}